{
 "cells": [
  {
   "cell_type": "markdown",
   "id": "dd9d1930-bd2d-4be7-a1f5-c73f03bfb7b5",
   "metadata": {},
   "source": [
    "#### Testing on user input"
   ]
  },
  {
   "cell_type": "code",
   "execution_count": 14,
   "id": "c151a762-ca12-44af-bda5-92f590512e32",
   "metadata": {},
   "outputs": [
    {
     "name": "stderr",
     "output_type": "stream",
     "text": [
      "C:\\Users\\Admin\\anaconda3\\lib\\site-packages\\pandas\\core\\computation\\expressions.py:21: UserWarning: Pandas requires version '2.8.4' or newer of 'numexpr' (version '2.7.3' currently installed).\n",
      "  from pandas.core.computation.check import NUMEXPR_INSTALLED\n",
      "C:\\Users\\Admin\\anaconda3\\lib\\site-packages\\pandas\\core\\arrays\\masked.py:60: UserWarning: Pandas requires version '1.3.6' or newer of 'bottleneck' (version '1.3.2' currently installed).\n",
      "  from pandas.core import (\n"
     ]
    }
   ],
   "source": [
    "import json\n",
    "import pickle\n",
    "import numpy as np\n",
    "import pandas as pd"
   ]
  },
  {
   "cell_type": "code",
   "execution_count": 2,
   "id": "da645fbc-0d44-4f09-8dd4-3194363bc6ea",
   "metadata": {
    "scrolled": true
   },
   "outputs": [
    {
     "data": {
      "text/plain": [
       "{'region': {'southeast': 1, 'southwest': 2, 'northwest': 3, 'northeast': 4},\n",
       " 'smoker': {'yes': 1, 'no': 0},\n",
       " 'columns': ['age', 'bmi', 'children', 'smoker', 'region']}"
      ]
     },
     "execution_count": 2,
     "metadata": {},
     "output_type": "execute_result"
    }
   ],
   "source": [
    "with open(\"label_encode.json\",\"r\") as file:\n",
    "    data_json = json.load(file)\n",
    "data_json"
   ]
  },
  {
   "cell_type": "code",
   "execution_count": 4,
   "id": "017e88f6-ce0c-4ded-9684-81e7983faf65",
   "metadata": {},
   "outputs": [],
   "source": [
    "with open(\"linear_model.pkl\",\"rb\") as file:\n",
    "    lr_model_test = pickle.load(file)"
   ]
  },
  {
   "cell_type": "code",
   "execution_count": 21,
   "id": "e8c60a84-076c-4ef7-9918-cd130d81c601",
   "metadata": {},
   "outputs": [
    {
     "data": {
      "text/plain": [
       "array([40,  2,  3,  1,  4])"
      ]
     },
     "execution_count": 21,
     "metadata": {},
     "output_type": "execute_result"
    }
   ],
   "source": [
    "age = 40\n",
    "bmi = 2.3\n",
    "children = 3\n",
    "smoker = \"yes\"\n",
    "region = \"northeast\"\n",
    "# charges \" ?\n",
    "columns_name = data_json[\"columns\"]\n",
    "smoker_val = data_json[\"smoker\"][smoker]\n",
    "region_val = data_json[\"region\"][region]\n",
    "array = np.zeros(len(columns_name),dtype=int)\n",
    "array[0] = age \n",
    "array[1] = bmi\n",
    "array[2] = children\n",
    "array[3] = smoker_val\n",
    "array[4] = region_val\n",
    "array"
   ]
  },
  {
   "cell_type": "code",
   "execution_count": 23,
   "id": "fe93ae68-d371-4908-890b-b9a65d03e141",
   "metadata": {},
   "outputs": [
    {
     "name": "stderr",
     "output_type": "stream",
     "text": [
      "C:\\Users\\Admin\\anaconda3\\lib\\site-packages\\sklearn\\base.py:450: UserWarning: X does not have valid feature names, but LinearRegression was fitted with feature names\n",
      "  warnings.warn(\n"
     ]
    },
    {
     "data": {
      "text/plain": [
       "23796.675882410796"
      ]
     },
     "execution_count": 23,
     "metadata": {},
     "output_type": "execute_result"
    }
   ],
   "source": [
    "predicted_charges = lr_model_test.predict([array])[0]\n",
    "predicted_charges"
   ]
  },
  {
   "cell_type": "code",
   "execution_count": 24,
   "id": "42d9c8f3-0c39-4d38-91a5-e0a4fee0fadc",
   "metadata": {},
   "outputs": [
    {
     "name": "stderr",
     "output_type": "stream",
     "text": [
      "C:\\Users\\Admin\\anaconda3\\lib\\site-packages\\sklearn\\base.py:450: UserWarning: X does not have valid feature names, but LinearRegression was fitted with feature names\n",
      "  warnings.warn(\n"
     ]
    },
    {
     "data": {
      "text/plain": [
       "23796.68"
      ]
     },
     "execution_count": 24,
     "metadata": {},
     "output_type": "execute_result"
    }
   ],
   "source": [
    "predicted_charges = np.around(lr_model_test.predict([array])[0],2)\n",
    "predicted_charges"
   ]
  },
  {
   "cell_type": "code",
   "execution_count": null,
   "id": "2c77f591-1c03-4e48-b635-badfdd25d9c3",
   "metadata": {},
   "outputs": [],
   "source": []
  }
 ],
 "metadata": {
  "kernelspec": {
   "display_name": "Python 3 (ipykernel)",
   "language": "python",
   "name": "python3"
  },
  "language_info": {
   "codemirror_mode": {
    "name": "ipython",
    "version": 3
   },
   "file_extension": ".py",
   "mimetype": "text/x-python",
   "name": "python",
   "nbconvert_exporter": "python",
   "pygments_lexer": "ipython3",
   "version": "3.9.7"
  }
 },
 "nbformat": 4,
 "nbformat_minor": 5
}
